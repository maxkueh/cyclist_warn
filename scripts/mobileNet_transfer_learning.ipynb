{
  "cells": [
    {
      "cell_type": "markdown",
      "metadata": {
        "id": "VVRxENY7sM9c"
      },
      "source": [
        "# MobileNet - Transfer Learning"
      ]
    },
    {
      "cell_type": "markdown",
      "metadata": {
        "id": "mqxvHfvDu9fN"
      },
      "source": [
        "Mit diesem Notebook können verschiedene MobileNet-Varianten per Transfer Learning auf einen eigenen Datensatz angepasst werden."
      ]
    },
    {
      "cell_type": "markdown",
      "metadata": {
        "id": "kMOngzUYsP6x"
      },
      "source": [
        "## 0. Vorbereitungen/Konfiguration"
      ]
    },
    {
      "cell_type": "markdown",
      "metadata": {
        "id": "jrEIOxuJe2_o"
      },
      "source": [
        "Importe:"
      ]
    },
    {
      "cell_type": "code",
      "execution_count": null,
      "metadata": {
        "id": "YsIXBKnVwXQO"
      },
      "outputs": [],
      "source": [
        "import matplotlib.pyplot as plt\n",
        "import numpy as np\n",
        "import pandas as pd\n",
        "import tensorflow as tf\n",
        "import pathlib\n",
        "from tensorflow import keras\n",
        "from tensorflow.keras import Model\n",
        "from tensorflow.keras.preprocessing import image_dataset_from_directory\n",
        "from sklearn.metrics import classification_report\n",
        "from sklearn.metrics import confusion_matrix, ConfusionMatrixDisplay\n",
        "from tensorflow.keras.models import Sequential\n",
        "from tensorflow.keras.layers import Dense, InputLayer, Dropout, Conv1D, Flatten, Reshape, MaxPooling1D, BatchNormalization, Conv2D, GlobalMaxPooling2D, Lambda, GlobalAveragePooling2D, AveragePooling2D\n",
        "from tensorflow.keras.optimizers import Adam\n",
        "from tensorflow.keras.losses import binary_crossentropy"
      ]
    },
    {
      "cell_type": "markdown",
      "metadata": {
        "id": "QWBf334VsS06"
      },
      "source": [
        "Parameter konfigurieren:"
      ]
    },
    {
      "cell_type": "code",
      "execution_count": null,
      "metadata": {
        "id": "fTOgwtSpsERo"
      },
      "outputs": [],
      "source": [
        "#Datensatz auswaehlen (\"cam_warn_not_warn\", \"mlx_warn_not_warn\", \"cam_car_not_car\", \"mlx_car_not_car\")\n",
        "dataset_name = \"cam_warn_not_warn\"\n",
        "\n",
        "#MobileNet-Version (\"v1\", \"v2\", \"v3\")\n",
        "mobilenet_version = \"v2\"\n",
        "\n",
        "#Parameter fuer MobileNet und Vorverarbeitung\n",
        "alpha = 0.35\n",
        "image_height = 96\n",
        "image_width = 96\n",
        "color_mode = \"rgb\"\n",
        "\n",
        "if color_mode == \"grayscale\":\n",
        "  input_shape = (image_height, image_width, 1) \n",
        "else:\n",
        "  input_shape = (image_height, image_width, 3) \n",
        "\n",
        "#Quelle der Gewichte für vortrainierte MobileNets (\"imagenet\" oder hdf5-file)\n",
        "weights = \"imagenet\"\n",
        "\n",
        "#Trainings-Parameter\n",
        "initial_epochs = 10\n",
        "fine_tune_epochs = 5\n",
        "base_learning_rate = 0.0001\n",
        "batch_size = 32"
      ]
    },
    {
      "cell_type": "markdown",
      "metadata": {
        "id": "X7vHciqxsgrI"
      },
      "source": [
        "## 1. Daten einlesen"
      ]
    },
    {
      "cell_type": "markdown",
      "metadata": {
        "id": "dJq34KVtshpR"
      },
      "source": [
        "**Übersicht über das Datensatz-Verzeichnis:**"
      ]
    },
    {
      "cell_type": "code",
      "execution_count": null,
      "metadata": {
        "colab": {
          "base_uri": "https://localhost:8080/"
        },
        "id": "wPRy3VjxsmrC",
        "outputId": "630f01ff-db6b-457f-deeb-971e4041f39e"
      },
      "outputs": [
        {
          "name": "stdout",
          "output_type": "stream",
          "text": [
            "Gesmtanzahl der Bilder: 6101\n",
            "Anzahl der Bilder in der Klasse 'warn': 1012\n",
            "Anzahl der Bilder in der Klasse 'not_warn': 5089\n"
          ]
        }
      ],
      "source": [
        "data_path = \"labelled_data/\" + dataset_name\n",
        "data_dir = pathlib.Path(data_path)\n",
        "\n",
        "classname_one = dataset_name.split(\"_\")[-1]\n",
        "classname_two = \"not_\" + classname_one \n",
        "\n",
        "image_count = len(list(data_dir.glob(\"*/*.jpg\")))\n",
        "warn_count = len(list(data_dir.glob(classname_one + \"/*.jpg\")))\n",
        "not_warn_count = len(list(data_dir.glob(classname_two + \"/*.jpg\")))\n",
        "print(\"Gesmtanzahl der Bilder: \" + str(image_count))\n",
        "print(\"Anzahl der Bilder in der Klasse '\" + classname_one + \"': \" + str(warn_count))\n",
        "print(\"Anzahl der Bilder in der Klasse '\" + classname_two + \"': \" + str(not_warn_count))"
      ]
    },
    {
      "cell_type": "code",
      "execution_count": null,
      "metadata": {
        "id": "p9kwXjkMspFy"
      },
      "outputs": [],
      "source": [
        "print(\"Beispielbild der Klasse '\" + classname_one + \"': \")\n",
        "PIL.Image.open(str(list(data_dir.glob(classname_one + \"/*\"))[0]))"
      ]
    },
    {
      "cell_type": "code",
      "execution_count": null,
      "metadata": {
        "id": "UPgEe4Zhsyzq"
      },
      "outputs": [],
      "source": [
        "print(\"Beispielbild der Klasse '\" + classname_two + \"': \")\n",
        "PIL.Image.open(str(list(data_dir.glob(classname_two + \"/*\"))[0]))"
      ]
    },
    {
      "cell_type": "markdown",
      "metadata": {
        "id": "-i4OOvuas1Qh"
      },
      "source": [
        "**Erstellen eines Trainings- und Validierungsdatensatzes als tf.data.Dataset-Objekt:**"
      ]
    },
    {
      "cell_type": "code",
      "execution_count": null,
      "metadata": {
        "colab": {
          "base_uri": "https://localhost:8080/"
        },
        "id": "-hbBL6XMs5Sx",
        "outputId": "6d10b8ed-c464-4a55-8abc-c583231d41b6"
      },
      "outputs": [
        {
          "name": "stdout",
          "output_type": "stream",
          "text": [
            "Found 6101 files belonging to 2 classes.\n",
            "Using 3661 files for training.\n",
            "Found 6101 files belonging to 2 classes.\n",
            "Using 2440 files for validation.\n",
            "Klassen: ['not_warn', 'warn']\n",
            "Aktueller Training/Validation-Split: 0.4\n"
          ]
        }
      ],
      "source": [
        "#Paramenter ergänzen\n",
        "crop_to_aspect_ratio = False\n",
        "label_mode = \"binary\"\n",
        "image_size = (image_width, image_height)\n",
        "validation_split = 0.4\n",
        "\n",
        "# Trainingsdatensatz\n",
        "train_dataset = tf.keras.preprocessing.image_dataset_from_directory(\n",
        "  data_dir,\n",
        "  validation_split=validation_split,\n",
        "  subset=\"training\",\n",
        "  shuffle=True,\n",
        "  seed=123,\n",
        "  image_size=image_size,\n",
        "  batch_size=batch_size,\n",
        "  label_mode=label_mode,\n",
        "  color_mode=color_mode,\n",
        "  crop_to_aspect_ratio=crop_to_aspect_ratio)\n",
        "\n",
        "# Validierungsdatensatz\n",
        "validation_dataset = tf.keras.preprocessing.image_dataset_from_directory(\n",
        "  data_dir,\n",
        "  validation_split=validation_split,\n",
        "  subset=\"validation\",\n",
        "  shuffle=True,\n",
        "  seed=123,\n",
        "  image_size=image_size,\n",
        "  batch_size=batch_size,\n",
        "  label_mode=label_mode,\n",
        "  color_mode=color_mode,\n",
        "  crop_to_aspect_ratio=crop_to_aspect_ratio)\n",
        "\n",
        "class_names = train_dataset.class_names\n",
        "print(\"Klassen: \" + str(class_names))\n",
        "print(\"Aktueller Training/Validation-Split: \" + str(validation_split))"
      ]
    },
    {
      "cell_type": "markdown",
      "metadata": {
        "id": "kdyPtiMytjao"
      },
      "source": [
        "Beispiele geladener Bilder:"
      ]
    },
    {
      "cell_type": "code",
      "execution_count": null,
      "metadata": {
        "id": "7BQnVDW4tjIp"
      },
      "outputs": [],
      "source": [
        "plt.figure(figsize=(25, 7))\n",
        "for images, labels in train_dataset.take(1):\n",
        "  for i in range(14):\n",
        "    ax = plt.subplot(2, 7, i + 1)\n",
        "    plt.imshow(images[i].numpy().astype(\"uint8\"))\n",
        "    plt.title(labels[i].numpy())\n",
        "    plt.axis(\"off\")"
      ]
    },
    {
      "cell_type": "markdown",
      "metadata": {
        "id": "p-lqetXKtn9J"
      },
      "source": [
        "**Erstellen eines Testdatensatzes:**"
      ]
    },
    {
      "cell_type": "code",
      "execution_count": null,
      "metadata": {
        "colab": {
          "base_uri": "https://localhost:8080/"
        },
        "id": "1ywfDBAFtm7A",
        "outputId": "b035d510-1413-432c-f3be-f10971806647"
      },
      "outputs": [
        {
          "name": "stdout",
          "output_type": "stream",
          "text": [
            "Anzahl der ursprünglich im Validierungsdatensatz enthaltenen Batches: 77\n",
            "Anzahl der übriggebliebenen Batches im Validierungsdatensatz: 52\n",
            "Anzahl der Batches im Testdatensatz: 25\n"
          ]
        }
      ],
      "source": [
        "val_batches = tf.data.experimental.cardinality(validation_dataset)\n",
        "print(\"Anzahl der ursprünglich im Validierungsdatensatz enthaltenen Batches: %d\" % val_batches)\n",
        "test_dataset = validation_dataset.take(val_batches // 3)\n",
        "validation_dataset = validation_dataset.skip(val_batches // 3)\n",
        "print(\"Anzahl der übriggebliebenen Batches im Validierungsdatensatz: %d\" % tf.data.experimental.cardinality(validation_dataset))\n",
        "print(\"Anzahl der Batches im Testdatensatz: %d\" % tf.data.experimental.cardinality(test_dataset))"
      ]
    },
    {
      "cell_type": "markdown",
      "metadata": {
        "id": "nagxbbenttew"
      },
      "source": [
        "**Sonstiges**"
      ]
    },
    {
      "cell_type": "code",
      "execution_count": null,
      "metadata": {
        "id": "JoMf6PmIts8j"
      },
      "outputs": [],
      "source": [
        "AUTOTUNE = tf.data.AUTOTUNE\n",
        "train_dataset = train_dataset.prefetch(buffer_size=AUTOTUNE)\n",
        "validation_dataset = validation_dataset.prefetch(buffer_size=AUTOTUNE)\n",
        "test_dataset = test_dataset.prefetch(buffer_size=AUTOTUNE)"
      ]
    },
    {
      "cell_type": "markdown",
      "metadata": {
        "id": "k5fkiHhea7A_"
      },
      "source": [
        "**Data Augmentation**"
      ]
    },
    {
      "cell_type": "code",
      "execution_count": null,
      "metadata": {
        "id": "gkdLLx-Ha6iC"
      },
      "outputs": [],
      "source": [
        "# data_augmentation = tf.keras.Sequential([\n",
        "#   # tf.keras.layers.experimental.preprocessing.RandomFlip('horizontal'),\n",
        "#   #tf.keras.layers.experimental.preprocessing.RandomRotation(0.05),\n",
        "# ])"
      ]
    },
    {
      "cell_type": "code",
      "execution_count": null,
      "metadata": {
        "id": "tZuhcA8EbCN-"
      },
      "outputs": [],
      "source": [
        "# for image, _ in train_dataset.take(1):\n",
        "#   plt.figure(figsize=(10, 10))\n",
        "#   first_image = image[0]\n",
        "#   for i in range(9):\n",
        "#     ax = plt.subplot(3, 3, i + 1)\n",
        "#     augmented_image = data_augmentation(tf.expand_dims(first_image, 0))\n",
        "#     plt.imshow(augmented_image[0] / 255)\n",
        "#     plt.axis('off')"
      ]
    },
    {
      "cell_type": "markdown",
      "metadata": {
        "id": "kq47ChOXkY7i"
      },
      "source": [
        "**Skalieren der Pixelwerte in den Bereich [-1, 1]:**"
      ]
    },
    {
      "cell_type": "code",
      "execution_count": null,
      "metadata": {
        "id": "rT9kkRAikVRF"
      },
      "outputs": [],
      "source": [
        "if mobilenet_version == \"v1\" or mobilenet_version == \"v2\":\n",
        "  preprocess_input = tf.keras.applications.mobilenet_v2.preprocess_input\n",
        "#elif mobilenet_version == \"v3\":\n",
        "  #Preprocessing-Layer wird ueber Keras-Application-Parameter inkludiert "
      ]
    },
    {
      "cell_type": "markdown",
      "metadata": {
        "id": "ZLS5hEgEt-UT"
      },
      "source": [
        "## 2. Modell"
      ]
    },
    {
      "cell_type": "markdown",
      "metadata": {
        "id": "0WMlHHsjt_6y"
      },
      "source": [
        "### 2.1 Erstellen das Modells:"
      ]
    },
    {
      "cell_type": "markdown",
      "metadata": {
        "id": "GRAxYcB6ued6"
      },
      "source": [
        "**Laden des vortrainierten Basis-Modells:**\n",
        "\n",
        "Beim Laden des Modells wird zuerst das vortrainierte Modell ohne Klassifikationsschicht geladen. Außerdem werden die Gewichte eingefroren, sodass die anhand ImageNet gelernten Features nicht verloren gehen."
      ]
    },
    {
      "cell_type": "code",
      "execution_count": null,
      "metadata": {
        "id": "Kh8xdgfYuGLv"
      },
      "outputs": [],
      "source": [
        "# Wenn es sich um Grayscale-Bilder handelt, wird eine weight-Datei genutzt, die 105 Layer erwartet\n",
        "if color_mode == \"grayscale\":\n",
        "  include_top = True\n",
        "else:\n",
        "  include_top = False\n",
        "\n",
        "\n",
        "if mobilenet_version == \"v1\": \n",
        "  mobilenet_base = tf.keras.applications.MobileNet(input_shape=input_shape, alpha=alpha, weights=weights, include_top=include_top)\n",
        "elif mobilenet_version == \"v2\":\n",
        "  mobilenet_base = tf.keras.applications.MobileNetV2(input_shape=input_shape, alpha=alpha, weights=weights, include_top=include_top)\n",
        "elif mobilenet_version == \"v3\":\n",
        "  mobilenet_base = tf.keras.applications.MobileNetV3Small(input_shape=input_shape, alpha=alpha, weights=weights, include_top=include_top, include_preprocessing=True)\n",
        "\n",
        "if include_top:\n",
        "  print(\"Top-Layer nachträglich entfernt\")\n",
        "  mobilenet_base = Model(inputs=mobilenet_base.inputs, outputs=mobilenet_base.layers[-3].output)"
      ]
    },
    {
      "cell_type": "code",
      "execution_count": null,
      "metadata": {
        "id": "8iNr7LuAPv6T"
      },
      "outputs": [],
      "source": [
        "mobilenet_base.trainable = False"
      ]
    },
    {
      "cell_type": "code",
      "execution_count": null,
      "metadata": {
        "colab": {
          "base_uri": "https://localhost:8080/"
        },
        "id": "0uy9AiI8DWnP",
        "outputId": "68189a93-92c7-48b0-ca32-6b54486c0604"
      },
      "outputs": [
        {
          "name": "stdout",
          "output_type": "stream",
          "text": [
            "Model: \"mobilenetv2_0.35_96\"\n",
            "__________________________________________________________________________________________________\n",
            "Layer (type)                    Output Shape         Param #     Connected to                     \n",
            "==================================================================================================\n",
            "input_7 (InputLayer)            [(None, 96, 96, 3)]  0                                            \n",
            "__________________________________________________________________________________________________\n",
            "Conv1 (Conv2D)                  (None, 48, 48, 16)   432         input_7[0][0]                    \n",
            "__________________________________________________________________________________________________\n",
            "bn_Conv1 (BatchNormalization)   (None, 48, 48, 16)   64          Conv1[0][0]                      \n",
            "__________________________________________________________________________________________________\n",
            "Conv1_relu (ReLU)               (None, 48, 48, 16)   0           bn_Conv1[0][0]                   \n",
            "__________________________________________________________________________________________________\n",
            "expanded_conv_depthwise (Depthw (None, 48, 48, 16)   144         Conv1_relu[0][0]                 \n",
            "__________________________________________________________________________________________________\n",
            "expanded_conv_depthwise_BN (Bat (None, 48, 48, 16)   64          expanded_conv_depthwise[0][0]    \n",
            "__________________________________________________________________________________________________\n",
            "expanded_conv_depthwise_relu (R (None, 48, 48, 16)   0           expanded_conv_depthwise_BN[0][0] \n",
            "__________________________________________________________________________________________________\n",
            "expanded_conv_project (Conv2D)  (None, 48, 48, 8)    128         expanded_conv_depthwise_relu[0][0\n",
            "__________________________________________________________________________________________________\n",
            "expanded_conv_project_BN (Batch (None, 48, 48, 8)    32          expanded_conv_project[0][0]      \n",
            "__________________________________________________________________________________________________\n",
            "block_1_expand (Conv2D)         (None, 48, 48, 48)   384         expanded_conv_project_BN[0][0]   \n",
            "__________________________________________________________________________________________________\n",
            "block_1_expand_BN (BatchNormali (None, 48, 48, 48)   192         block_1_expand[0][0]             \n",
            "__________________________________________________________________________________________________\n",
            "block_1_expand_relu (ReLU)      (None, 48, 48, 48)   0           block_1_expand_BN[0][0]          \n",
            "__________________________________________________________________________________________________\n",
            "block_1_pad (ZeroPadding2D)     (None, 49, 49, 48)   0           block_1_expand_relu[0][0]        \n",
            "__________________________________________________________________________________________________\n",
            "block_1_depthwise (DepthwiseCon (None, 24, 24, 48)   432         block_1_pad[0][0]                \n",
            "__________________________________________________________________________________________________\n",
            "block_1_depthwise_BN (BatchNorm (None, 24, 24, 48)   192         block_1_depthwise[0][0]          \n",
            "__________________________________________________________________________________________________\n",
            "block_1_depthwise_relu (ReLU)   (None, 24, 24, 48)   0           block_1_depthwise_BN[0][0]       \n",
            "__________________________________________________________________________________________________\n",
            "block_1_project (Conv2D)        (None, 24, 24, 8)    384         block_1_depthwise_relu[0][0]     \n",
            "__________________________________________________________________________________________________\n",
            "block_1_project_BN (BatchNormal (None, 24, 24, 8)    32          block_1_project[0][0]            \n",
            "__________________________________________________________________________________________________\n",
            "block_2_expand (Conv2D)         (None, 24, 24, 48)   384         block_1_project_BN[0][0]         \n",
            "__________________________________________________________________________________________________\n",
            "block_2_expand_BN (BatchNormali (None, 24, 24, 48)   192         block_2_expand[0][0]             \n",
            "__________________________________________________________________________________________________\n",
            "block_2_expand_relu (ReLU)      (None, 24, 24, 48)   0           block_2_expand_BN[0][0]          \n",
            "__________________________________________________________________________________________________\n",
            "block_2_depthwise (DepthwiseCon (None, 24, 24, 48)   432         block_2_expand_relu[0][0]        \n",
            "__________________________________________________________________________________________________\n",
            "block_2_depthwise_BN (BatchNorm (None, 24, 24, 48)   192         block_2_depthwise[0][0]          \n",
            "__________________________________________________________________________________________________\n",
            "block_2_depthwise_relu (ReLU)   (None, 24, 24, 48)   0           block_2_depthwise_BN[0][0]       \n",
            "__________________________________________________________________________________________________\n",
            "block_2_project (Conv2D)        (None, 24, 24, 8)    384         block_2_depthwise_relu[0][0]     \n",
            "__________________________________________________________________________________________________\n",
            "block_2_project_BN (BatchNormal (None, 24, 24, 8)    32          block_2_project[0][0]            \n",
            "__________________________________________________________________________________________________\n",
            "block_2_add (Add)               (None, 24, 24, 8)    0           block_1_project_BN[0][0]         \n",
            "                                                                 block_2_project_BN[0][0]         \n",
            "__________________________________________________________________________________________________\n",
            "block_3_expand (Conv2D)         (None, 24, 24, 48)   384         block_2_add[0][0]                \n",
            "__________________________________________________________________________________________________\n",
            "block_3_expand_BN (BatchNormali (None, 24, 24, 48)   192         block_3_expand[0][0]             \n",
            "__________________________________________________________________________________________________\n",
            "block_3_expand_relu (ReLU)      (None, 24, 24, 48)   0           block_3_expand_BN[0][0]          \n",
            "__________________________________________________________________________________________________\n",
            "block_3_pad (ZeroPadding2D)     (None, 25, 25, 48)   0           block_3_expand_relu[0][0]        \n",
            "__________________________________________________________________________________________________\n",
            "block_3_depthwise (DepthwiseCon (None, 12, 12, 48)   432         block_3_pad[0][0]                \n",
            "__________________________________________________________________________________________________\n",
            "block_3_depthwise_BN (BatchNorm (None, 12, 12, 48)   192         block_3_depthwise[0][0]          \n",
            "__________________________________________________________________________________________________\n",
            "block_3_depthwise_relu (ReLU)   (None, 12, 12, 48)   0           block_3_depthwise_BN[0][0]       \n",
            "__________________________________________________________________________________________________\n",
            "block_3_project (Conv2D)        (None, 12, 12, 16)   768         block_3_depthwise_relu[0][0]     \n",
            "__________________________________________________________________________________________________\n",
            "block_3_project_BN (BatchNormal (None, 12, 12, 16)   64          block_3_project[0][0]            \n",
            "__________________________________________________________________________________________________\n",
            "block_4_expand (Conv2D)         (None, 12, 12, 96)   1536        block_3_project_BN[0][0]         \n",
            "__________________________________________________________________________________________________\n",
            "block_4_expand_BN (BatchNormali (None, 12, 12, 96)   384         block_4_expand[0][0]             \n",
            "__________________________________________________________________________________________________\n",
            "block_4_expand_relu (ReLU)      (None, 12, 12, 96)   0           block_4_expand_BN[0][0]          \n",
            "__________________________________________________________________________________________________\n",
            "block_4_depthwise (DepthwiseCon (None, 12, 12, 96)   864         block_4_expand_relu[0][0]        \n",
            "__________________________________________________________________________________________________\n",
            "block_4_depthwise_BN (BatchNorm (None, 12, 12, 96)   384         block_4_depthwise[0][0]          \n",
            "__________________________________________________________________________________________________\n",
            "block_4_depthwise_relu (ReLU)   (None, 12, 12, 96)   0           block_4_depthwise_BN[0][0]       \n",
            "__________________________________________________________________________________________________\n",
            "block_4_project (Conv2D)        (None, 12, 12, 16)   1536        block_4_depthwise_relu[0][0]     \n",
            "__________________________________________________________________________________________________\n",
            "block_4_project_BN (BatchNormal (None, 12, 12, 16)   64          block_4_project[0][0]            \n",
            "__________________________________________________________________________________________________\n",
            "block_4_add (Add)               (None, 12, 12, 16)   0           block_3_project_BN[0][0]         \n",
            "                                                                 block_4_project_BN[0][0]         \n",
            "__________________________________________________________________________________________________\n",
            "block_5_expand (Conv2D)         (None, 12, 12, 96)   1536        block_4_add[0][0]                \n",
            "__________________________________________________________________________________________________\n",
            "block_5_expand_BN (BatchNormali (None, 12, 12, 96)   384         block_5_expand[0][0]             \n",
            "__________________________________________________________________________________________________\n",
            "block_5_expand_relu (ReLU)      (None, 12, 12, 96)   0           block_5_expand_BN[0][0]          \n",
            "__________________________________________________________________________________________________\n",
            "block_5_depthwise (DepthwiseCon (None, 12, 12, 96)   864         block_5_expand_relu[0][0]        \n",
            "__________________________________________________________________________________________________\n",
            "block_5_depthwise_BN (BatchNorm (None, 12, 12, 96)   384         block_5_depthwise[0][0]          \n",
            "__________________________________________________________________________________________________\n",
            "block_5_depthwise_relu (ReLU)   (None, 12, 12, 96)   0           block_5_depthwise_BN[0][0]       \n",
            "__________________________________________________________________________________________________\n",
            "block_5_project (Conv2D)        (None, 12, 12, 16)   1536        block_5_depthwise_relu[0][0]     \n",
            "__________________________________________________________________________________________________\n",
            "block_5_project_BN (BatchNormal (None, 12, 12, 16)   64          block_5_project[0][0]            \n",
            "__________________________________________________________________________________________________\n",
            "block_5_add (Add)               (None, 12, 12, 16)   0           block_4_add[0][0]                \n",
            "                                                                 block_5_project_BN[0][0]         \n",
            "__________________________________________________________________________________________________\n",
            "block_6_expand (Conv2D)         (None, 12, 12, 96)   1536        block_5_add[0][0]                \n",
            "__________________________________________________________________________________________________\n",
            "block_6_expand_BN (BatchNormali (None, 12, 12, 96)   384         block_6_expand[0][0]             \n",
            "__________________________________________________________________________________________________\n",
            "block_6_expand_relu (ReLU)      (None, 12, 12, 96)   0           block_6_expand_BN[0][0]          \n",
            "__________________________________________________________________________________________________\n",
            "block_6_pad (ZeroPadding2D)     (None, 13, 13, 96)   0           block_6_expand_relu[0][0]        \n",
            "__________________________________________________________________________________________________\n",
            "block_6_depthwise (DepthwiseCon (None, 6, 6, 96)     864         block_6_pad[0][0]                \n",
            "__________________________________________________________________________________________________\n",
            "block_6_depthwise_BN (BatchNorm (None, 6, 6, 96)     384         block_6_depthwise[0][0]          \n",
            "__________________________________________________________________________________________________\n",
            "block_6_depthwise_relu (ReLU)   (None, 6, 6, 96)     0           block_6_depthwise_BN[0][0]       \n",
            "__________________________________________________________________________________________________\n",
            "block_6_project (Conv2D)        (None, 6, 6, 24)     2304        block_6_depthwise_relu[0][0]     \n",
            "__________________________________________________________________________________________________\n",
            "block_6_project_BN (BatchNormal (None, 6, 6, 24)     96          block_6_project[0][0]            \n",
            "__________________________________________________________________________________________________\n",
            "block_7_expand (Conv2D)         (None, 6, 6, 144)    3456        block_6_project_BN[0][0]         \n",
            "__________________________________________________________________________________________________\n",
            "block_7_expand_BN (BatchNormali (None, 6, 6, 144)    576         block_7_expand[0][0]             \n",
            "__________________________________________________________________________________________________\n",
            "block_7_expand_relu (ReLU)      (None, 6, 6, 144)    0           block_7_expand_BN[0][0]          \n",
            "__________________________________________________________________________________________________\n",
            "block_7_depthwise (DepthwiseCon (None, 6, 6, 144)    1296        block_7_expand_relu[0][0]        \n",
            "__________________________________________________________________________________________________\n",
            "block_7_depthwise_BN (BatchNorm (None, 6, 6, 144)    576         block_7_depthwise[0][0]          \n",
            "__________________________________________________________________________________________________\n",
            "block_7_depthwise_relu (ReLU)   (None, 6, 6, 144)    0           block_7_depthwise_BN[0][0]       \n",
            "__________________________________________________________________________________________________\n",
            "block_7_project (Conv2D)        (None, 6, 6, 24)     3456        block_7_depthwise_relu[0][0]     \n",
            "__________________________________________________________________________________________________\n",
            "block_7_project_BN (BatchNormal (None, 6, 6, 24)     96          block_7_project[0][0]            \n",
            "__________________________________________________________________________________________________\n",
            "block_7_add (Add)               (None, 6, 6, 24)     0           block_6_project_BN[0][0]         \n",
            "                                                                 block_7_project_BN[0][0]         \n",
            "__________________________________________________________________________________________________\n",
            "block_8_expand (Conv2D)         (None, 6, 6, 144)    3456        block_7_add[0][0]                \n",
            "__________________________________________________________________________________________________\n",
            "block_8_expand_BN (BatchNormali (None, 6, 6, 144)    576         block_8_expand[0][0]             \n",
            "__________________________________________________________________________________________________\n",
            "block_8_expand_relu (ReLU)      (None, 6, 6, 144)    0           block_8_expand_BN[0][0]          \n",
            "__________________________________________________________________________________________________\n",
            "block_8_depthwise (DepthwiseCon (None, 6, 6, 144)    1296        block_8_expand_relu[0][0]        \n",
            "__________________________________________________________________________________________________\n",
            "block_8_depthwise_BN (BatchNorm (None, 6, 6, 144)    576         block_8_depthwise[0][0]          \n",
            "__________________________________________________________________________________________________\n",
            "block_8_depthwise_relu (ReLU)   (None, 6, 6, 144)    0           block_8_depthwise_BN[0][0]       \n",
            "__________________________________________________________________________________________________\n",
            "block_8_project (Conv2D)        (None, 6, 6, 24)     3456        block_8_depthwise_relu[0][0]     \n",
            "__________________________________________________________________________________________________\n",
            "block_8_project_BN (BatchNormal (None, 6, 6, 24)     96          block_8_project[0][0]            \n",
            "__________________________________________________________________________________________________\n",
            "block_8_add (Add)               (None, 6, 6, 24)     0           block_7_add[0][0]                \n",
            "                                                                 block_8_project_BN[0][0]         \n",
            "__________________________________________________________________________________________________\n",
            "block_9_expand (Conv2D)         (None, 6, 6, 144)    3456        block_8_add[0][0]                \n",
            "__________________________________________________________________________________________________\n",
            "block_9_expand_BN (BatchNormali (None, 6, 6, 144)    576         block_9_expand[0][0]             \n",
            "__________________________________________________________________________________________________\n",
            "block_9_expand_relu (ReLU)      (None, 6, 6, 144)    0           block_9_expand_BN[0][0]          \n",
            "__________________________________________________________________________________________________\n",
            "block_9_depthwise (DepthwiseCon (None, 6, 6, 144)    1296        block_9_expand_relu[0][0]        \n",
            "__________________________________________________________________________________________________\n",
            "block_9_depthwise_BN (BatchNorm (None, 6, 6, 144)    576         block_9_depthwise[0][0]          \n",
            "__________________________________________________________________________________________________\n",
            "block_9_depthwise_relu (ReLU)   (None, 6, 6, 144)    0           block_9_depthwise_BN[0][0]       \n",
            "__________________________________________________________________________________________________\n",
            "block_9_project (Conv2D)        (None, 6, 6, 24)     3456        block_9_depthwise_relu[0][0]     \n",
            "__________________________________________________________________________________________________\n",
            "block_9_project_BN (BatchNormal (None, 6, 6, 24)     96          block_9_project[0][0]            \n",
            "__________________________________________________________________________________________________\n",
            "block_9_add (Add)               (None, 6, 6, 24)     0           block_8_add[0][0]                \n",
            "                                                                 block_9_project_BN[0][0]         \n",
            "__________________________________________________________________________________________________\n",
            "block_10_expand (Conv2D)        (None, 6, 6, 144)    3456        block_9_add[0][0]                \n",
            "__________________________________________________________________________________________________\n",
            "block_10_expand_BN (BatchNormal (None, 6, 6, 144)    576         block_10_expand[0][0]            \n",
            "__________________________________________________________________________________________________\n",
            "block_10_expand_relu (ReLU)     (None, 6, 6, 144)    0           block_10_expand_BN[0][0]         \n",
            "__________________________________________________________________________________________________\n",
            "block_10_depthwise (DepthwiseCo (None, 6, 6, 144)    1296        block_10_expand_relu[0][0]       \n",
            "__________________________________________________________________________________________________\n",
            "block_10_depthwise_BN (BatchNor (None, 6, 6, 144)    576         block_10_depthwise[0][0]         \n",
            "__________________________________________________________________________________________________\n",
            "block_10_depthwise_relu (ReLU)  (None, 6, 6, 144)    0           block_10_depthwise_BN[0][0]      \n",
            "__________________________________________________________________________________________________\n",
            "block_10_project (Conv2D)       (None, 6, 6, 32)     4608        block_10_depthwise_relu[0][0]    \n",
            "__________________________________________________________________________________________________\n",
            "block_10_project_BN (BatchNorma (None, 6, 6, 32)     128         block_10_project[0][0]           \n",
            "__________________________________________________________________________________________________\n",
            "block_11_expand (Conv2D)        (None, 6, 6, 192)    6144        block_10_project_BN[0][0]        \n",
            "__________________________________________________________________________________________________\n",
            "block_11_expand_BN (BatchNormal (None, 6, 6, 192)    768         block_11_expand[0][0]            \n",
            "__________________________________________________________________________________________________\n",
            "block_11_expand_relu (ReLU)     (None, 6, 6, 192)    0           block_11_expand_BN[0][0]         \n",
            "__________________________________________________________________________________________________\n",
            "block_11_depthwise (DepthwiseCo (None, 6, 6, 192)    1728        block_11_expand_relu[0][0]       \n",
            "__________________________________________________________________________________________________\n",
            "block_11_depthwise_BN (BatchNor (None, 6, 6, 192)    768         block_11_depthwise[0][0]         \n",
            "__________________________________________________________________________________________________\n",
            "block_11_depthwise_relu (ReLU)  (None, 6, 6, 192)    0           block_11_depthwise_BN[0][0]      \n",
            "__________________________________________________________________________________________________\n",
            "block_11_project (Conv2D)       (None, 6, 6, 32)     6144        block_11_depthwise_relu[0][0]    \n",
            "__________________________________________________________________________________________________\n",
            "block_11_project_BN (BatchNorma (None, 6, 6, 32)     128         block_11_project[0][0]           \n",
            "__________________________________________________________________________________________________\n",
            "block_11_add (Add)              (None, 6, 6, 32)     0           block_10_project_BN[0][0]        \n",
            "                                                                 block_11_project_BN[0][0]        \n",
            "__________________________________________________________________________________________________\n",
            "block_12_expand (Conv2D)        (None, 6, 6, 192)    6144        block_11_add[0][0]               \n",
            "__________________________________________________________________________________________________\n",
            "block_12_expand_BN (BatchNormal (None, 6, 6, 192)    768         block_12_expand[0][0]            \n",
            "__________________________________________________________________________________________________\n",
            "block_12_expand_relu (ReLU)     (None, 6, 6, 192)    0           block_12_expand_BN[0][0]         \n",
            "__________________________________________________________________________________________________\n",
            "block_12_depthwise (DepthwiseCo (None, 6, 6, 192)    1728        block_12_expand_relu[0][0]       \n",
            "__________________________________________________________________________________________________\n",
            "block_12_depthwise_BN (BatchNor (None, 6, 6, 192)    768         block_12_depthwise[0][0]         \n",
            "__________________________________________________________________________________________________\n",
            "block_12_depthwise_relu (ReLU)  (None, 6, 6, 192)    0           block_12_depthwise_BN[0][0]      \n",
            "__________________________________________________________________________________________________\n",
            "block_12_project (Conv2D)       (None, 6, 6, 32)     6144        block_12_depthwise_relu[0][0]    \n",
            "__________________________________________________________________________________________________\n",
            "block_12_project_BN (BatchNorma (None, 6, 6, 32)     128         block_12_project[0][0]           \n",
            "__________________________________________________________________________________________________\n",
            "block_12_add (Add)              (None, 6, 6, 32)     0           block_11_add[0][0]               \n",
            "                                                                 block_12_project_BN[0][0]        \n",
            "__________________________________________________________________________________________________\n",
            "block_13_expand (Conv2D)        (None, 6, 6, 192)    6144        block_12_add[0][0]               \n",
            "__________________________________________________________________________________________________\n",
            "block_13_expand_BN (BatchNormal (None, 6, 6, 192)    768         block_13_expand[0][0]            \n",
            "__________________________________________________________________________________________________\n",
            "block_13_expand_relu (ReLU)     (None, 6, 6, 192)    0           block_13_expand_BN[0][0]         \n",
            "__________________________________________________________________________________________________\n",
            "block_13_pad (ZeroPadding2D)    (None, 7, 7, 192)    0           block_13_expand_relu[0][0]       \n",
            "__________________________________________________________________________________________________\n",
            "block_13_depthwise (DepthwiseCo (None, 3, 3, 192)    1728        block_13_pad[0][0]               \n",
            "__________________________________________________________________________________________________\n",
            "block_13_depthwise_BN (BatchNor (None, 3, 3, 192)    768         block_13_depthwise[0][0]         \n",
            "__________________________________________________________________________________________________\n",
            "block_13_depthwise_relu (ReLU)  (None, 3, 3, 192)    0           block_13_depthwise_BN[0][0]      \n",
            "__________________________________________________________________________________________________\n",
            "block_13_project (Conv2D)       (None, 3, 3, 56)     10752       block_13_depthwise_relu[0][0]    \n",
            "__________________________________________________________________________________________________\n",
            "block_13_project_BN (BatchNorma (None, 3, 3, 56)     224         block_13_project[0][0]           \n",
            "__________________________________________________________________________________________________\n",
            "block_14_expand (Conv2D)        (None, 3, 3, 336)    18816       block_13_project_BN[0][0]        \n",
            "__________________________________________________________________________________________________\n",
            "block_14_expand_BN (BatchNormal (None, 3, 3, 336)    1344        block_14_expand[0][0]            \n",
            "__________________________________________________________________________________________________\n",
            "block_14_expand_relu (ReLU)     (None, 3, 3, 336)    0           block_14_expand_BN[0][0]         \n",
            "__________________________________________________________________________________________________\n",
            "block_14_depthwise (DepthwiseCo (None, 3, 3, 336)    3024        block_14_expand_relu[0][0]       \n",
            "__________________________________________________________________________________________________\n",
            "block_14_depthwise_BN (BatchNor (None, 3, 3, 336)    1344        block_14_depthwise[0][0]         \n",
            "__________________________________________________________________________________________________\n",
            "block_14_depthwise_relu (ReLU)  (None, 3, 3, 336)    0           block_14_depthwise_BN[0][0]      \n",
            "__________________________________________________________________________________________________\n",
            "block_14_project (Conv2D)       (None, 3, 3, 56)     18816       block_14_depthwise_relu[0][0]    \n",
            "__________________________________________________________________________________________________\n",
            "block_14_project_BN (BatchNorma (None, 3, 3, 56)     224         block_14_project[0][0]           \n",
            "__________________________________________________________________________________________________\n",
            "block_14_add (Add)              (None, 3, 3, 56)     0           block_13_project_BN[0][0]        \n",
            "                                                                 block_14_project_BN[0][0]        \n",
            "__________________________________________________________________________________________________\n",
            "block_15_expand (Conv2D)        (None, 3, 3, 336)    18816       block_14_add[0][0]               \n",
            "__________________________________________________________________________________________________\n",
            "block_15_expand_BN (BatchNormal (None, 3, 3, 336)    1344        block_15_expand[0][0]            \n",
            "__________________________________________________________________________________________________\n",
            "block_15_expand_relu (ReLU)     (None, 3, 3, 336)    0           block_15_expand_BN[0][0]         \n",
            "__________________________________________________________________________________________________\n",
            "block_15_depthwise (DepthwiseCo (None, 3, 3, 336)    3024        block_15_expand_relu[0][0]       \n",
            "__________________________________________________________________________________________________\n",
            "block_15_depthwise_BN (BatchNor (None, 3, 3, 336)    1344        block_15_depthwise[0][0]         \n",
            "__________________________________________________________________________________________________\n",
            "block_15_depthwise_relu (ReLU)  (None, 3, 3, 336)    0           block_15_depthwise_BN[0][0]      \n",
            "__________________________________________________________________________________________________\n",
            "block_15_project (Conv2D)       (None, 3, 3, 56)     18816       block_15_depthwise_relu[0][0]    \n",
            "__________________________________________________________________________________________________\n",
            "block_15_project_BN (BatchNorma (None, 3, 3, 56)     224         block_15_project[0][0]           \n",
            "__________________________________________________________________________________________________\n",
            "block_15_add (Add)              (None, 3, 3, 56)     0           block_14_add[0][0]               \n",
            "                                                                 block_15_project_BN[0][0]        \n",
            "__________________________________________________________________________________________________\n",
            "block_16_expand (Conv2D)        (None, 3, 3, 336)    18816       block_15_add[0][0]               \n",
            "__________________________________________________________________________________________________\n",
            "block_16_expand_BN (BatchNormal (None, 3, 3, 336)    1344        block_16_expand[0][0]            \n",
            "__________________________________________________________________________________________________\n",
            "block_16_expand_relu (ReLU)     (None, 3, 3, 336)    0           block_16_expand_BN[0][0]         \n",
            "__________________________________________________________________________________________________\n",
            "block_16_depthwise (DepthwiseCo (None, 3, 3, 336)    3024        block_16_expand_relu[0][0]       \n",
            "__________________________________________________________________________________________________\n",
            "block_16_depthwise_BN (BatchNor (None, 3, 3, 336)    1344        block_16_depthwise[0][0]         \n",
            "__________________________________________________________________________________________________\n",
            "block_16_depthwise_relu (ReLU)  (None, 3, 3, 336)    0           block_16_depthwise_BN[0][0]      \n",
            "__________________________________________________________________________________________________\n",
            "block_16_project (Conv2D)       (None, 3, 3, 112)    37632       block_16_depthwise_relu[0][0]    \n",
            "__________________________________________________________________________________________________\n",
            "block_16_project_BN (BatchNorma (None, 3, 3, 112)    448         block_16_project[0][0]           \n",
            "__________________________________________________________________________________________________\n",
            "Conv_1 (Conv2D)                 (None, 3, 3, 1280)   143360      block_16_project_BN[0][0]        \n",
            "__________________________________________________________________________________________________\n",
            "Conv_1_bn (BatchNormalization)  (None, 3, 3, 1280)   5120        Conv_1[0][0]                     \n",
            "__________________________________________________________________________________________________\n",
            "out_relu (ReLU)                 (None, 3, 3, 1280)   0           Conv_1_bn[0][0]                  \n",
            "==================================================================================================\n",
            "Total params: 410,208\n",
            "Trainable params: 0\n",
            "Non-trainable params: 410,208\n",
            "__________________________________________________________________________________________________\n"
          ]
        }
      ],
      "source": [
        "mobilenet_base.summary()"
      ]
    },
    {
      "cell_type": "markdown",
      "metadata": {
        "id": "3eG-SD0Xumkz"
      },
      "source": [
        "**Hinzufügen eines individuellen Klassifikationsteils:**"
      ]
    },
    {
      "cell_type": "code",
      "execution_count": null,
      "metadata": {
        "colab": {
          "base_uri": "https://localhost:8080/"
        },
        "id": "lTyMXw6CPeAd",
        "outputId": "6771467d-99fe-49ed-b868-43ef47100a39"
      },
      "outputs": [
        {
          "name": "stdout",
          "output_type": "stream",
          "text": [
            "Model: \"model_3\"\n",
            "_________________________________________________________________\n",
            "Layer (type)                 Output Shape              Param #   \n",
            "=================================================================\n",
            "input_8 (InputLayer)         [(None, 96, 96, 3)]       0         \n",
            "_________________________________________________________________\n",
            "tf.math.truediv_3 (TFOpLambd (None, 96, 96, 3)         0         \n",
            "_________________________________________________________________\n",
            "tf.math.subtract_3 (TFOpLamb (None, 96, 96, 3)         0         \n",
            "_________________________________________________________________\n",
            "mobilenetv2_0.35_96 (Functio (None, 3, 3, 1280)        410208    \n",
            "_________________________________________________________________\n",
            "flatten_6 (Flatten)          (None, 11520)             0         \n",
            "_________________________________________________________________\n",
            "dense_6 (Dense)              (None, 4)                 46084     \n",
            "_________________________________________________________________\n",
            "dropout_3 (Dropout)          (None, 4)                 0         \n",
            "_________________________________________________________________\n",
            "flatten_7 (Flatten)          (None, 4)                 0         \n",
            "_________________________________________________________________\n",
            "dense_7 (Dense)              (None, 1)                 5         \n",
            "=================================================================\n",
            "Total params: 456,297\n",
            "Trainable params: 46,089\n",
            "Non-trainable params: 410,208\n",
            "_________________________________________________________________\n"
          ]
        }
      ],
      "source": [
        "inputs = keras.Input(shape=input_shape)\n",
        "#x = data_augmentation(inputs)\n",
        "if mobilenet_version == \"v3\":\n",
        "  x = mobilenet_base(input, training=False)\n",
        "else:\n",
        "  x = preprocess_input(inputs)\n",
        "  x = mobilenet_base(x, training=False)\n",
        "\n",
        "x = keras.layers.Flatten()(x)\n",
        "x = keras.layers.Dense(4, activation=\"relu\")(x)\n",
        "x = keras.layers.Dropout(0.3)(x)\n",
        "x = keras.layers.Flatten()(x)\n",
        "outputs = keras.layers.Dense(1)(x)\n",
        "model = keras.Model(inputs, outputs)\n",
        "\n",
        "model.summary()"
      ]
    },
    {
      "cell_type": "code",
      "execution_count": null,
      "metadata": {
        "id": "reYnni5fSEi6"
      },
      "outputs": [],
      "source": [
        "model.compile(optimizer=tf.keras.optimizers.Adam(learning_rate=base_learning_rate),\n",
        "                loss=tf.keras.losses.BinaryCrossentropy(from_logits=True),\n",
        "                metrics=['accuracy'])"
      ]
    },
    {
      "cell_type": "markdown",
      "metadata": {
        "id": "Bap0H1SowtTR"
      },
      "source": [
        "### 2.2 Trainieren des Modells:"
      ]
    },
    {
      "cell_type": "markdown",
      "metadata": {
        "id": "KccEFoS9wwoX"
      },
      "source": [
        "**Initiale Ergebnisse:**"
      ]
    },
    {
      "cell_type": "code",
      "execution_count": null,
      "metadata": {
        "colab": {
          "base_uri": "https://localhost:8080/"
        },
        "id": "K1PSY5ZPwqrG",
        "outputId": "52650ff8-7ff4-4aad-e32a-0cbb4cc264f2"
      },
      "outputs": [
        {
          "name": "stdout",
          "output_type": "stream",
          "text": [
            "52/52 [==============================] - 5s 45ms/step - loss: 0.8483 - accuracy: 0.6488\n",
            "Initialer Loss: 0.85\n",
            "Initiale Accuracy: 0.65\n"
          ]
        }
      ],
      "source": [
        "loss0, accuracy0 = model.evaluate(validation_dataset)\n",
        "print(\"Initialer Loss: {:.2f}\".format(loss0))\n",
        "print(\"Initiale Accuracy: {:.2f}\".format(accuracy0))"
      ]
    },
    {
      "cell_type": "markdown",
      "metadata": {
        "id": "LtKYxm7Gycpt"
      },
      "source": [
        "**Training:**"
      ]
    },
    {
      "cell_type": "code",
      "execution_count": null,
      "metadata": {
        "id": "RTF7feNj0W3Z"
      },
      "outputs": [],
      "source": [
        "classes_weights = {0: 1., 1: 2.}"
      ]
    },
    {
      "cell_type": "code",
      "execution_count": null,
      "metadata": {
        "colab": {
          "base_uri": "https://localhost:8080/"
        },
        "id": "1FYMFIesyd5-",
        "outputId": "957d0e56-8989-408c-bad2-2bf0ab833abd"
      },
      "outputs": [
        {
          "name": "stdout",
          "output_type": "stream",
          "text": [
            "Epoch 1/10\n",
            "115/115 [==============================] - 12s 79ms/step - loss: 0.5812 - accuracy: 0.8648 - val_loss: 0.2819 - val_accuracy: 0.9207\n",
            "Epoch 2/10\n",
            "115/115 [==============================] - 9s 78ms/step - loss: 0.4226 - accuracy: 0.9088 - val_loss: 0.2217 - val_accuracy: 0.9323\n",
            "Epoch 3/10\n",
            "115/115 [==============================] - 9s 80ms/step - loss: 0.3886 - accuracy: 0.9191 - val_loss: 0.2096 - val_accuracy: 0.9329\n",
            "Epoch 4/10\n",
            "115/115 [==============================] - 9s 80ms/step - loss: 0.3628 - accuracy: 0.9249 - val_loss: 0.1834 - val_accuracy: 0.9409\n",
            "Epoch 5/10\n",
            "115/115 [==============================] - 10s 80ms/step - loss: 0.3344 - accuracy: 0.9334 - val_loss: 0.1654 - val_accuracy: 0.9457\n",
            "Epoch 6/10\n",
            "115/115 [==============================] - 9s 79ms/step - loss: 0.3230 - accuracy: 0.9347 - val_loss: 0.1622 - val_accuracy: 0.9470\n",
            "Epoch 7/10\n",
            "115/115 [==============================] - 10s 80ms/step - loss: 0.3111 - accuracy: 0.9383 - val_loss: 0.1542 - val_accuracy: 0.9488\n",
            "Epoch 8/10\n",
            "115/115 [==============================] - 9s 79ms/step - loss: 0.2891 - accuracy: 0.9495 - val_loss: 0.1445 - val_accuracy: 0.9518\n",
            "Epoch 9/10\n",
            "115/115 [==============================] - 9s 79ms/step - loss: 0.3011 - accuracy: 0.9495 - val_loss: 0.1453 - val_accuracy: 0.9518\n",
            "Epoch 10/10\n",
            "115/115 [==============================] - 9s 78ms/step - loss: 0.2836 - accuracy: 0.9489 - val_loss: 0.1362 - val_accuracy: 0.9530\n"
          ]
        }
      ],
      "source": [
        "history = model.fit(train_dataset,\n",
        "                    epochs=initial_epochs,\n",
        "                    validation_data = validation_dataset,\n",
        "                    class_weight = classes_weights)"
      ]
    },
    {
      "cell_type": "markdown",
      "metadata": {
        "id": "G16dBh0fylhc"
      },
      "source": [
        "Übersicht der Lernkurven:"
      ]
    },
    {
      "cell_type": "code",
      "execution_count": null,
      "metadata": {
        "colab": {
          "base_uri": "https://localhost:8080/",
          "height": 513
        },
        "id": "7lMk6-6ZymnV",
        "outputId": "94324e53-f228-444e-95df-aa21e26a127e"
      },
      "outputs": [
        {
          "data": {
            "image/png": "[encoded data removed]",
            "text/plain": [
              "<Figure size 576x576 with 2 Axes>"
            ]
          },
          "metadata": {
            "needs_background": "light"
          },
          "output_type": "display_data"
        }
      ],
      "source": [
        "acc = history.history['accuracy']\n",
        "val_acc = history.history['val_accuracy']\n",
        "\n",
        "loss = history.history['loss']\n",
        "val_loss = history.history['val_loss']\n",
        "\n",
        "plt.figure(figsize=(8, 8))\n",
        "plt.subplot(2, 1, 1)\n",
        "\n",
        "\n",
        "plt.plot(acc, label='Training Accuracy')\n",
        "plt.plot(val_acc, label='Validation Accuracy')\n",
        "plt.legend(loc='lower right')\n",
        "plt.ylabel('Accuracy')\n",
        "plt.ylim([min(plt.ylim()),1])\n",
        "plt.title('Training and Validation Accuracy')\n",
        "\n",
        "plt.subplot(2, 1, 2)\n",
        "plt.plot(loss, label='Training Loss')\n",
        "plt.plot(val_loss, label='Validation Loss')\n",
        "plt.legend(loc='upper right')\n",
        "plt.ylabel('Cross Entropy')\n",
        "plt.ylim([0,1.0])\n",
        "plt.title('Training and Validation Loss')\n",
        "plt.xlabel('epoch')\n",
        "plt.show()"
      ]
    },
    {
      "cell_type": "markdown",
      "metadata": {
        "id": "-xTiVyCe6fMH"
      },
      "source": [
        "**Finetuning:**"
      ]
    },
    {
      "cell_type": "markdown",
      "metadata": {
        "id": "xEUay7tr6h0Y"
      },
      "source": [
        "Für das Finetuning werden einige der Schichten des Modells \"entforen\" und weiter trainiert."
      ]
    },
    {
      "cell_type": "code",
      "execution_count": null,
      "metadata": {
        "colab": {
          "base_uri": "https://localhost:8080/"
        },
        "id": "nWc4GYF46jQm",
        "outputId": "c5699313-12ac-4cd7-b13c-37fc2dbba5da"
      },
      "outputs": [
        {
          "name": "stdout",
          "output_type": "stream",
          "text": [
            "Anzahl der aller Schichten im Modell:  154\n"
          ]
        }
      ],
      "source": [
        "mobilenet_base.trainable = True\n",
        "print(\"Anzahl der aller Schichten im Modell: \", len(mobilenet_base.layers))"
      ]
    },
    {
      "cell_type": "markdown",
      "metadata": {
        "id": "JnpW2KxNejDy"
      },
      "source": [
        "Einfrieren aller Schichten bis zu der, ab der trainiert werden soll:"
      ]
    },
    {
      "cell_type": "code",
      "execution_count": null,
      "metadata": {
        "id": "BLYiPX08efSf"
      },
      "outputs": [],
      "source": [
        "fine_tune_at = 100\n",
        "\n",
        "for layer in mobilenet_base.layers[:fine_tune_at]:\n",
        "  layer.trainable =  False"
      ]
    },
    {
      "cell_type": "markdown",
      "metadata": {
        "id": "GixnX6yxempT"
      },
      "source": [
        "Konfiguration des Modells:"
      ]
    },
    {
      "cell_type": "code",
      "execution_count": null,
      "metadata": {
        "id": "PuhOLa9reowG"
      },
      "outputs": [],
      "source": [
        "model.compile(optimizer=tf.keras.optimizers.Adam(learning_rate=base_learning_rate/10),\n",
        "                loss=tf.keras.losses.BinaryCrossentropy(from_logits=True),\n",
        "                metrics=['accuracy'])"
      ]
    },
    {
      "cell_type": "code",
      "execution_count": null,
      "metadata": {
        "colab": {
          "base_uri": "https://localhost:8080/"
        },
        "id": "Mo7dl654eu9a",
        "outputId": "7940e78b-b2e1-4bd5-e88e-0bd38e265b9b"
      },
      "outputs": [
        {
          "name": "stdout",
          "output_type": "stream",
          "text": [
            "Anzahl trainiebarer Schichten: 58\n"
          ]
        }
      ],
      "source": [
        "print(\"Anzahl trainiebarer Schichten: \" + str(len(model.trainable_variables)))"
      ]
    },
    {
      "cell_type": "markdown",
      "metadata": {
        "id": "-87GIjl1eyRS"
      },
      "source": [
        "Fortsetzen des Trainings:"
      ]
    },
    {
      "cell_type": "code",
      "execution_count": null,
      "metadata": {
        "colab": {
          "base_uri": "https://localhost:8080/"
        },
        "id": "wUdw5dPBewva",
        "outputId": "a3ea1900-7624-4f84-cc85-a2bf089a15de"
      },
      "outputs": [
        {
          "name": "stdout",
          "output_type": "stream",
          "text": [
            "Epoch 10/15\n",
            "115/115 [==============================] - 13s 88ms/step - loss: 0.2692 - accuracy: 0.9574 - val_loss: 0.1346 - val_accuracy: 0.9537\n",
            "Epoch 11/15\n",
            "115/115 [==============================] - 10s 82ms/step - loss: 0.2593 - accuracy: 0.9579 - val_loss: 0.1249 - val_accuracy: 0.9512\n",
            "Epoch 12/15\n",
            "115/115 [==============================] - 10s 82ms/step - loss: 0.2501 - accuracy: 0.9588 - val_loss: 0.1214 - val_accuracy: 0.9537\n",
            "Epoch 13/15\n",
            "115/115 [==============================] - 10s 82ms/step - loss: 0.2444 - accuracy: 0.9629 - val_loss: 0.1220 - val_accuracy: 0.9524\n",
            "Epoch 14/15\n",
            "115/115 [==============================] - 10s 82ms/step - loss: 0.2453 - accuracy: 0.9634 - val_loss: 0.1245 - val_accuracy: 0.9543\n",
            "Epoch 15/15\n",
            "115/115 [==============================] - 10s 82ms/step - loss: 0.2311 - accuracy: 0.9645 - val_loss: 0.1268 - val_accuracy: 0.9512\n"
          ]
        }
      ],
      "source": [
        "total_epochs =  initial_epochs + fine_tune_epochs\n",
        "\n",
        "history_fine = model.fit(train_dataset,\n",
        "                         epochs=total_epochs,\n",
        "                         initial_epoch=history.epoch[-1],\n",
        "                         validation_data=validation_dataset,\n",
        "                         class_weight = classes_weights)"
      ]
    },
    {
      "cell_type": "code",
      "execution_count": null,
      "metadata": {
        "colab": {
          "base_uri": "https://localhost:8080/",
          "height": 513
        },
        "id": "a9m3Fas2KpA3",
        "outputId": "c8f703cb-0bdb-49b2-e30b-e66ed247a982"
      },
      "outputs": [
        {
          "data": {
            "image/png": "[encoded data removed]",
            "text/plain": [
              "<Figure size 576x576 with 2 Axes>"
            ]
          },
          "metadata": {
            "needs_background": "light"
          },
          "output_type": "display_data"
        }
      ],
      "source": [
        "acc += history_fine.history['accuracy']\n",
        "val_acc += history_fine.history['val_accuracy']\n",
        "\n",
        "loss += history_fine.history['loss']\n",
        "val_loss += history_fine.history['val_loss']\n",
        "\n",
        "plt.figure(figsize=(8, 8))\n",
        "plt.subplot(2, 1, 1)\n",
        "plt.plot(acc, label='Training')\n",
        "plt.plot(val_acc, label='Validierung')\n",
        "plt.ylim([0.8, 1])\n",
        "plt.plot([initial_epochs-1,initial_epochs-1],\n",
        "          plt.ylim(), label='Start Fine Tuning')\n",
        "plt.legend(loc='lower right')\n",
        "plt.title('Accuracy')\n",
        "\n",
        "plt.subplot(2, 1, 2)\n",
        "plt.plot(loss, label='Training')\n",
        "plt.plot(val_loss, label='Validierung')\n",
        "plt.ylim([0, 1.0])\n",
        "plt.plot([initial_epochs-1,initial_epochs-1],\n",
        "         plt.ylim(), label='Start Fine Tuning')\n",
        "plt.legend(loc='upper right')\n",
        "plt.title('Loss')\n",
        "plt.xlabel('Epoche')\n",
        "plt.show()"
      ]
    },
    {
      "cell_type": "markdown",
      "metadata": {
        "id": "bg_1Vld97PwK"
      },
      "source": [
        "### 2.3 Evaluieren des Modells"
      ]
    },
    {
      "cell_type": "code",
      "execution_count": null,
      "metadata": {
        "colab": {
          "base_uri": "https://localhost:8080/"
        },
        "id": "TD_Ox1Tu7O6Y",
        "outputId": "f00f5d10-df3c-43ab-ee3c-23eee1404c67"
      },
      "outputs": [
        {
          "name": "stdout",
          "output_type": "stream",
          "text": [
            "25/25 [==============================] - 2s 53ms/step - loss: 0.1391 - accuracy: 0.9525\n",
            "Test accuracy : 0.9524999856948853\n"
          ]
        }
      ],
      "source": [
        "loss, accuracy = model.evaluate(test_dataset)\n",
        "print('Test accuracy :', accuracy)"
      ]
    },
    {
      "cell_type": "code",
      "execution_count": null,
      "metadata": {
        "id": "6LbSN6uqRljz"
      },
      "outputs": [],
      "source": [
        "y_pred = []\n",
        "y_true = []\n",
        "X = []\n",
        "\n",
        "for image_batch, label_batch in test_dataset:\n",
        "   X.append(image_batch.numpy())\n",
        "   y_true.append(label_batch)\n",
        "   preds = model.predict(image_batch)\n",
        "   y_pred.append(preds)\n",
        "\n",
        "correct_labels = tf.concat([item for item in y_true], axis = 0).numpy().astype(int)\n",
        "predicted_labels_logits = tf.concat([item for item in y_pred], axis = 0).numpy()\n",
        "\n",
        "predicted_labels = []\n",
        "\n",
        "for logit in predicted_labels_logits:\n",
        "  prediction = tf.round(tf.nn.sigmoid(logit))\n",
        "  predicted_labels.append(prediction)\n",
        "\n",
        "X_conc = tf.concat([item for item in X], axis = 0).numpy()"
      ]
    },
    {
      "cell_type": "code",
      "execution_count": null,
      "metadata": {
        "colab": {
          "base_uri": "https://localhost:8080/"
        },
        "id": "VJTC0ue4R4Yz",
        "outputId": "66bed369-5a64-4099-889f-de1d2c22cb6d"
      },
      "outputs": [
        {
          "name": "stdout",
          "output_type": "stream",
          "text": [
            "              precision    recall  f1-score   support\n",
            "\n",
            "           0       0.97      0.98      0.97       655\n",
            "           1       0.89      0.84      0.87       145\n",
            "\n",
            "    accuracy                           0.95       800\n",
            "   macro avg       0.93      0.91      0.92       800\n",
            "weighted avg       0.95      0.95      0.95       800\n",
            "\n"
          ]
        }
      ],
      "source": [
        "print(classification_report(correct_labels, predicted_labels))"
      ]
    },
    {
      "cell_type": "code",
      "execution_count": null,
      "metadata": {
        "colab": {
          "base_uri": "https://localhost:8080/",
          "height": 314
        },
        "id": "ruAVENmCU7dc",
        "outputId": "811d540a-b581-4390-8dd0-479115ac3334"
      },
      "outputs": [
        {
          "name": "stdout",
          "output_type": "stream",
          "text": [
            "[[640  15]\n",
            " [ 23 122]]\n"
          ]
        },
        {
          "data": {
            "image/png": "[encoded data removed]",
            "text/plain": [
              "<Figure size 432x288 with 2 Axes>"
            ]
          },
          "metadata": {
            "needs_background": "light"
          },
          "output_type": "display_data"
        }
      ],
      "source": [
        "conf_matr = confusion_matrix(correct_labels, predicted_labels)\n",
        "print(conf_matr)\n",
        "disp = ConfusionMatrixDisplay(confusion_matrix=conf_matr, display_labels=[\"not_warn\", \"warn\"])\n",
        "disp.plot()\n",
        "plt.show()"
      ]
    },
    {
      "cell_type": "markdown",
      "metadata": {
        "id": "fQg_wYkr8HXn"
      },
      "source": [
        "## 3. Komprimierung"
      ]
    },
    {
      "cell_type": "markdown",
      "metadata": {
        "id": "uANedJyX8JQ7"
      },
      "source": [
        "Definieren der Pfade zu den Modell-Dateien:"
      ]
    },
    {
      "cell_type": "code",
      "execution_count": null,
      "metadata": {
        "id": "ncUd3tZT8MIo"
      },
      "outputs": [],
      "source": [
        "MODELS_DIR = 'models/'\n",
        "if not os.path.exists(MODELS_DIR):\n",
        "    os.mkdir(MODELS_DIR)\n",
        "MODEL_TF = MODELS_DIR + 'model'\n",
        "MODEL_NO_QUANT_TFLITE = MODELS_DIR + 'model_no_quant.tflite'\n",
        "MODEL_TFLITE = MODELS_DIR + 'model_quant.tflite'"
      ]
    },
    {
      "cell_type": "markdown",
      "metadata": {
        "id": "kzBt4rFw8RXu"
      },
      "source": [
        "Speichern des erstellten Modells:"
      ]
    },
    {
      "cell_type": "code",
      "execution_count": null,
      "metadata": {
        "colab": {
          "base_uri": "https://localhost:8080/"
        },
        "id": "FvzTbVkr8TIg",
        "outputId": "31bf0e67-9567-4acf-87d4-a589baa99eec"
      },
      "outputs": [
        {
          "name": "stdout",
          "output_type": "stream",
          "text": [
            "INFO:tensorflow:Assets written to: models/model/assets\n"
          ]
        },
        {
          "name": "stderr",
          "output_type": "stream",
          "text": [
            "/usr/local/lib/python3.7/dist-packages/keras/utils/generic_utils.py:497: CustomMaskWarning: Custom mask layers require a config and must override get_config. When loading, the custom mask layer must be passed to the custom_objects argument.\n",
            "  category=CustomMaskWarning)\n"
          ]
        }
      ],
      "source": [
        "model.save(MODEL_TF)"
      ]
    },
    {
      "cell_type": "markdown",
      "metadata": {
        "id": "ppCJGqwb8VHV"
      },
      "source": [
        "Konvertieren des Modells in das .tflite-Format und Speichern der Datei (**ohne** Quantisierung):"
      ]
    },
    {
      "cell_type": "code",
      "execution_count": null,
      "metadata": {
        "colab": {
          "base_uri": "https://localhost:8080/"
        },
        "id": "ryYNQ3Pr8We2",
        "outputId": "b65422a3-6bdc-4d04-fa96-11afd069d911"
      },
      "outputs": [
        {
          "data": {
            "text/plain": [
              "1781696"
            ]
          },
          "execution_count": 180,
          "metadata": {},
          "output_type": "execute_result"
        }
      ],
      "source": [
        "converter = tf.lite.TFLiteConverter.from_saved_model(MODEL_TF)\n",
        "model_no_quant_tflite = converter.convert()\n",
        "open(MODEL_NO_QUANT_TFLITE, \"wb\").write(model_no_quant_tflite)"
      ]
    },
    {
      "cell_type": "markdown",
      "metadata": {
        "id": "qczTFyxI8Z8A"
      },
      "source": [
        "Konvertieren des Modells in das .tflite-Format und Speichern der Datei (**mit** Quantisierung):\n",
        "\n",
        "* Quantisierungsmethode: Full Integer Quantization (INT8)"
      ]
    },
    {
      "cell_type": "code",
      "execution_count": null,
      "metadata": {
        "id": "uh4aeZu58cHg"
      },
      "outputs": [],
      "source": [
        "def representative_dataset():\n",
        "  for image_batch, labels_batch in train_dataset:\n",
        "    yield [image_batch]\n",
        "\n",
        "converter_quantization = tf.lite.TFLiteConverter.from_saved_model(MODEL_TF)\n",
        "converter_quantization.optimizations = [tf.lite.Optimize.DEFAULT]\n",
        "converter_quantization.representative_dataset = representative_dataset\n",
        "converter_quantization.target_spec.supported_ops = [tf.lite.OpsSet.TFLITE_BUILTINS_INT8]\n",
        "converter_quantization.inference_input_type = tf.int8\n",
        "converter_quantization.inference_output_type = tf.int8\n",
        "\n",
        "tflite_model_quant = converter_quantization.convert()"
      ]
    },
    {
      "cell_type": "code",
      "execution_count": null,
      "metadata": {
        "colab": {
          "base_uri": "https://localhost:8080/"
        },
        "id": "vUedOu8r-W5T",
        "outputId": "efbe38bc-7f49-4a4a-aa75-fff90970e8b0"
      },
      "outputs": [
        {
          "data": {
            "text/plain": [
              "671448"
            ]
          },
          "execution_count": 182,
          "metadata": {},
          "output_type": "execute_result"
        }
      ],
      "source": [
        "open(MODEL_TFLITE, \"wb\").write(tflite_model_quant)"
      ]
    },
    {
      "cell_type": "markdown",
      "metadata": {
        "id": "C239gOoCFJjq"
      },
      "source": [
        "## 4. Vergleich nicht komprimiert vs. komprimiert"
      ]
    },
    {
      "cell_type": "code",
      "execution_count": null,
      "metadata": {
        "colab": {
          "base_uri": "https://localhost:8080/",
          "height": 142
        },
        "id": "v0h1Ga6WFO2t",
        "outputId": "f8627d10-f283-42ab-a15e-2a396dc2939a"
      },
      "outputs": [
        {
          "data": {
            "text/html": [
              "<div>\n",
              "<style scoped>\n",
              "    .dataframe tbody tr th:only-of-type {\n",
              "        vertical-align: middle;\n",
              "    }\n",
              "\n",
              "    .dataframe tbody tr th {\n",
              "        vertical-align: top;\n",
              "    }\n",
              "\n",
              "    .dataframe thead th {\n",
              "        text-align: right;\n",
              "    }\n",
              "</style>\n",
              "<table border=\"1\" class=\"dataframe\">\n",
              "  <thead>\n",
              "    <tr style=\"text-align: right;\">\n",
              "      <th></th>\n",
              "      <th>Size</th>\n",
              "      <th></th>\n",
              "    </tr>\n",
              "    <tr>\n",
              "      <th>Model</th>\n",
              "      <th></th>\n",
              "      <th></th>\n",
              "    </tr>\n",
              "  </thead>\n",
              "  <tbody>\n",
              "    <tr>\n",
              "      <th>TensorFlow Lite</th>\n",
              "      <td>1781696 bytes</td>\n",
              "      <td></td>\n",
              "    </tr>\n",
              "    <tr>\n",
              "      <th>TensorFlow Lite Quantized</th>\n",
              "      <td>671448 bytes</td>\n",
              "      <td>(reduced by 1110248 bytes)</td>\n",
              "    </tr>\n",
              "  </tbody>\n",
              "</table>\n",
              "</div>"
            ],
            "text/plain": [
              "                                     Size                            \n",
              "Model                                                                \n",
              "TensorFlow Lite            1781696 bytes                             \n",
              "TensorFlow Lite Quantized    671448 bytes  (reduced by 1110248 bytes)"
            ]
          },
          "execution_count": 183,
          "metadata": {},
          "output_type": "execute_result"
        }
      ],
      "source": [
        "size_no_quant_tflite = os.path.getsize(MODEL_NO_QUANT_TFLITE)\n",
        "size_tflite = os.path.getsize(MODEL_TFLITE)\n",
        "\n",
        "pd.DataFrame.from_records(\n",
        "    [[\"TensorFlow Lite\", f\"{size_no_quant_tflite} bytes \", \"\"],\n",
        "     [\"TensorFlow Lite Quantized\", f\"{size_tflite} bytes\", f\"(reduced by {size_no_quant_tflite - size_tflite} bytes)\"]], columns = [\"Model\", \"Size\", \"\"], index=\"Model\")"
      ]
    },
    {
      "cell_type": "markdown",
      "metadata": {
        "id": "Th8U1KpFFSw1"
      },
      "source": [
        "Funktionen zum Ausführen und evaluieren eines (komprimierten) tflite-Modells:"
      ]
    },
    {
      "cell_type": "code",
      "execution_count": null,
      "metadata": {
        "id": "SX_RPx6lhQyn"
      },
      "outputs": [],
      "source": [
        "def set_input_tensor(interpreter, input):\n",
        "  input_details = interpreter.get_input_details()[0]\n",
        "  tensor_index = input_details['index']\n",
        "  input_tensor = interpreter.tensor(tensor_index)()[0]\n",
        "  scale, zero_point = input_details['quantization']\n",
        "  input_tensor[:, :] = np.int8(input / scale + zero_point)\n",
        "\n",
        "def classify_image(interpreter, input):\n",
        "  set_input_tensor(interpreter, input)\n",
        "  interpreter.invoke()\n",
        "  output_details = interpreter.get_output_details()[0]\n",
        "  output = interpreter.get_tensor(output_details['index'])\n",
        "  scale, zero_point = output_details['quantization']\n",
        "  output = scale * (output - zero_point)\n",
        "  logit = output\n",
        "  return logit"
      ]
    },
    {
      "cell_type": "code",
      "execution_count": null,
      "metadata": {
        "id": "j_vKd8R8hpaK"
      },
      "outputs": [],
      "source": [
        "interpreter = tf.lite.Interpreter('/content/models/model_quant.tflite')\n",
        "interpreter.allocate_tensors()\n",
        "quantized_predictions_logits = []\n",
        "\n",
        "for image in X_conc:\n",
        "  quant_pred_logit = classify_image(interpreter, image)\n",
        "  quantized_predictions_logits.append(quant_pred_logit)"
      ]
    },
    {
      "cell_type": "code",
      "execution_count": null,
      "metadata": {
        "id": "nq-15DEpitMi"
      },
      "outputs": [],
      "source": [
        "quantized_predictions = []\n",
        "for logit in quantized_predictions_logits:  \n",
        "  quantized_prediction_binary = tf.round(tf.nn.sigmoid(logit)).numpy().flatten()\n",
        "  quantized_predictions.append(quantized_prediction_binary)\n",
        "\n",
        "quantized_predictions = np.asarray(quantized_predictions)"
      ]
    },
    {
      "cell_type": "markdown",
      "metadata": {
        "id": "Xr-VVt0OtJmD"
      },
      "source": [
        "Ergebnis-Metriken quantisiert:"
      ]
    },
    {
      "cell_type": "code",
      "execution_count": null,
      "metadata": {
        "colab": {
          "base_uri": "https://localhost:8080/"
        },
        "id": "Sbp4uy--nb0B",
        "outputId": "0c31e017-b039-42a5-efe7-1956182730c8"
      },
      "outputs": [
        {
          "name": "stdout",
          "output_type": "stream",
          "text": [
            "              precision    recall  f1-score   support\n",
            "\n",
            "           0       0.92      1.00      0.96       655\n",
            "           1       0.97      0.61      0.75       145\n",
            "\n",
            "    accuracy                           0.93       800\n",
            "   macro avg       0.94      0.80      0.85       800\n",
            "weighted avg       0.93      0.93      0.92       800\n",
            "\n"
          ]
        }
      ],
      "source": [
        "print(classification_report(correct_labels, quantized_predictions))"
      ]
    },
    {
      "cell_type": "code",
      "execution_count": null,
      "metadata": {
        "colab": {
          "base_uri": "https://localhost:8080/",
          "height": 314
        },
        "id": "XeD-byx4suoY",
        "outputId": "82ff08ce-fdc1-4251-ba47-9791ddfe16cb"
      },
      "outputs": [
        {
          "name": "stdout",
          "output_type": "stream",
          "text": [
            "[[652   3]\n",
            " [ 56  89]]\n"
          ]
        },
        {
          "data": {
            "image/png": "[encoded data removed]",
            "text/plain": [
              "<Figure size 432x288 with 2 Axes>"
            ]
          },
          "metadata": {
            "needs_background": "light"
          },
          "output_type": "display_data"
        }
      ],
      "source": [
        "conf_matr = confusion_matrix(correct_labels, quantized_predictions)\n",
        "print(conf_matr)\n",
        "disp = ConfusionMatrixDisplay(confusion_matrix=conf_matr, display_labels=[\"not_warn\", \"warn\"])\n",
        "disp.plot()\n",
        "plt.show()"
      ]
    },
    {
      "cell_type": "markdown",
      "metadata": {
        "id": "b7gj9IeiwVVI"
      },
      "source": [
        "## Quellen\n",
        "\n",
        "In dem Notebook wird u. a. angepasster Code aus folgenden Quellen verwendet:\n",
        "* https://www.tensorflow.org/tutorials/images/transfer_learning\n",
        "* https://www.tensorflow.org/lite/performance/post_training_integer_quant\n",
        "* https://colab.research.google.com/github/google-coral/tutorials/blob/master/retrain_classification_ptq_tf1.ipynb#scrollTo=RkQ2IlAWfC5O\n",
        "* https://colab.research.google.com/github/tensorflow/tflite-micro/blob/main/tensorflow/lite/micro/examples/hello_world/train/train_hello_world_model.ipynb#scrollTo=wEXiJ8dFkL2R"
      ]
    }
  ],
  "metadata": {
    "accelerator": "GPU",
    "colab": {
      "collapsed_sections": [],
      "name": "mobileNet_transfer_learning.ipynb",
      "provenance": []
    },
    "kernelspec": {
      "display_name": "Python 3",
      "name": "python3"
    },
    "language_info": {
      "name": "python"
    }
  },
  "nbformat": 4,
  "nbformat_minor": 0
}
